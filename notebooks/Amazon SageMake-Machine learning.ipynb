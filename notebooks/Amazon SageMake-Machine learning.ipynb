{
 "cells": [
  {
   "cell_type": "code",
   "execution_count": 13,
   "id": "d4d4e6e6",
   "metadata": {},
   "outputs": [],
   "source": [
    "import sagemaker\n",
    "import boto3\n",
    "from sagemaker.amazon.amazon_estimator import get_image_uri \n",
    "from sagemaker.session import s3_input, Session"
   ]
  },
  {
   "cell_type": "code",
   "execution_count": 14,
   "id": "7ddba4d1",
   "metadata": {},
   "outputs": [
    {
     "name": "stdout",
     "output_type": "stream",
     "text": [
      "us-east-1\n"
     ]
    }
   ],
   "source": [
    "bucket_name = 'bigdata940' # <--- CHANGE THIS VARIABLE TO A UNIQUE NAME FOR YOUR BUCKET\n",
    "my_region = boto3.session.Session().region_name # set the region of the instance\n",
    "print(my_region)"
   ]
  },
  {
   "cell_type": "code",
   "execution_count": 15,
   "id": "84fda543",
   "metadata": {},
   "outputs": [
    {
     "name": "stdout",
     "output_type": "stream",
     "text": [
      "S3 bucket created successfully\n"
     ]
    }
   ],
   "source": [
    "s3 = boto3.resource('s3')\n",
    "try:\n",
    "    if  my_region == 'us-east-1':\n",
    "        s3.create_bucket(Bucket=bucket_name)\n",
    "    print('S3 bucket created successfully')\n",
    "except Exception as e:\n",
    "    print('S3 error: ',e)"
   ]
  },
  {
   "cell_type": "code",
   "execution_count": 16,
   "id": "1c26e548",
   "metadata": {},
   "outputs": [
    {
     "name": "stdout",
     "output_type": "stream",
     "text": [
      "s3://bigdata940/model/output\n"
     ]
    }
   ],
   "source": [
    "# set an output path where the trained model will be saved\n",
    "prefix = 'model'\n",
    "output_path ='s3://{}/{}/output'.format(bucket_name, prefix)\n",
    "print(output_path)"
   ]
  },
  {
   "cell_type": "code",
   "execution_count": 17,
   "id": "82485d3f",
   "metadata": {},
   "outputs": [],
   "source": [
    "!pip install kagglehub -q"
   ]
  },
  {
   "cell_type": "code",
   "execution_count": 18,
   "id": "2d8182be",
   "metadata": {},
   "outputs": [],
   "source": [
    "import pandas as pd\n",
    "from io import StringIO\n",
    "\n",
    "# Set up AWS S3 client\n",
    "s3 = boto3.client('s3')\n",
    "\n",
    "# Define your S3 bucket name and the file path (object key) in the bucket\n",
    "bucket_name = bucket_name\n",
    "file_key = 'preprocessed.csv'  # Update with the correct path and file name in S3\n",
    "\n",
    "# Download the file from S3 to memory\n",
    "try:\n",
    "    s3_object = s3.get_object(Bucket=bucket_name, Key=file_key)\n",
    "    file_content = s3_object['Body'].read().decode('utf-8')  # Read and decode the file content as a string\n",
    "\n",
    "    # Use StringIO to read the string content as if it were a file\n",
    "    data = pd.read_csv(StringIO(file_content))\n",
    "    data\n",
    "\n",
    "except Exception as e:\n",
    "    print(f\"Error loading data from S3: {e}\")\n"
   ]
  },
  {
   "cell_type": "code",
   "execution_count": 19,
   "id": "77191c3a",
   "metadata": {},
   "outputs": [
    {
     "data": {
      "text/html": [
       "<div>\n",
       "<style scoped>\n",
       "    .dataframe tbody tr th:only-of-type {\n",
       "        vertical-align: middle;\n",
       "    }\n",
       "\n",
       "    .dataframe tbody tr th {\n",
       "        vertical-align: top;\n",
       "    }\n",
       "\n",
       "    .dataframe thead th {\n",
       "        text-align: right;\n",
       "    }\n",
       "</style>\n",
       "<table border=\"1\" class=\"dataframe\">\n",
       "  <thead>\n",
       "    <tr style=\"text-align: right;\">\n",
       "      <th></th>\n",
       "      <th>event_time</th>\n",
       "      <th>order_id</th>\n",
       "      <th>product_id</th>\n",
       "      <th>category_id</th>\n",
       "      <th>category_code</th>\n",
       "      <th>brand</th>\n",
       "      <th>price</th>\n",
       "      <th>user_id</th>\n",
       "    </tr>\n",
       "  </thead>\n",
       "  <tbody>\n",
       "    <tr>\n",
       "      <th>0</th>\n",
       "      <td>2020-04-24T11:50:39.000Z</td>\n",
       "      <td>2294359932054536986</td>\n",
       "      <td>1515966223509089906</td>\n",
       "      <td>2268105426648170900</td>\n",
       "      <td>electronics.tablet</td>\n",
       "      <td>samsung</td>\n",
       "      <td>162.01</td>\n",
       "      <td>1515915625441993984</td>\n",
       "    </tr>\n",
       "    <tr>\n",
       "      <th>1</th>\n",
       "      <td>2020-04-24T11:50:39.000Z</td>\n",
       "      <td>2294359932054536986</td>\n",
       "      <td>1515966223509089906</td>\n",
       "      <td>2268105426648170900</td>\n",
       "      <td>electronics.tablet</td>\n",
       "      <td>samsung</td>\n",
       "      <td>162.01</td>\n",
       "      <td>1515915625441993984</td>\n",
       "    </tr>\n",
       "    <tr>\n",
       "      <th>2</th>\n",
       "      <td>2020-04-24T14:37:43.000Z</td>\n",
       "      <td>2294444024058086220</td>\n",
       "      <td>2273948319057183658</td>\n",
       "      <td>2268105430162997728</td>\n",
       "      <td>electronics.audio.headphone</td>\n",
       "      <td>huawei</td>\n",
       "      <td>77.52</td>\n",
       "      <td>1515915625447879434</td>\n",
       "    </tr>\n",
       "    <tr>\n",
       "      <th>3</th>\n",
       "      <td>2020-04-24T14:37:43.000Z</td>\n",
       "      <td>2294444024058086220</td>\n",
       "      <td>2273948319057183658</td>\n",
       "      <td>2268105430162997728</td>\n",
       "      <td>electronics.audio.headphone</td>\n",
       "      <td>huawei</td>\n",
       "      <td>77.52</td>\n",
       "      <td>1515915625447879434</td>\n",
       "    </tr>\n",
       "    <tr>\n",
       "      <th>4</th>\n",
       "      <td>2020-04-26T08:45:57.000Z</td>\n",
       "      <td>2295716521449619559</td>\n",
       "      <td>1515966223509261697</td>\n",
       "      <td>2268105442636858090</td>\n",
       "      <td>furniture.kitchen.table</td>\n",
       "      <td>maestro</td>\n",
       "      <td>39.33</td>\n",
       "      <td>1515915625450382722</td>\n",
       "    </tr>\n",
       "    <tr>\n",
       "      <th>...</th>\n",
       "      <td>...</td>\n",
       "      <td>...</td>\n",
       "      <td>...</td>\n",
       "      <td>...</td>\n",
       "      <td>...</td>\n",
       "      <td>...</td>\n",
       "      <td>...</td>\n",
       "      <td>...</td>\n",
       "    </tr>\n",
       "    <tr>\n",
       "      <th>420713</th>\n",
       "      <td>2020-11-21T10:08:54.000Z</td>\n",
       "      <td>2388440981134693941</td>\n",
       "      <td>1515966223509088622</td>\n",
       "      <td>2374498914000592280</td>\n",
       "      <td>electronics.video.tv</td>\n",
       "      <td>lg</td>\n",
       "      <td>370.35</td>\n",
       "      <td>1515915625513809944</td>\n",
       "    </tr>\n",
       "    <tr>\n",
       "      <th>420714</th>\n",
       "      <td>2020-11-21T10:10:01.000Z</td>\n",
       "      <td>2388440981134693942</td>\n",
       "      <td>1515966223526602848</td>\n",
       "      <td>2268105428166508982</td>\n",
       "      <td>electronics.smartphone</td>\n",
       "      <td>oppo</td>\n",
       "      <td>138.87</td>\n",
       "      <td>1515915625514888605</td>\n",
       "    </tr>\n",
       "    <tr>\n",
       "      <th>420715</th>\n",
       "      <td>2020-11-21T10:10:13.000Z</td>\n",
       "      <td>2388440981134693943</td>\n",
       "      <td>1515966223509089282</td>\n",
       "      <td>2268105428166508982</td>\n",
       "      <td>electronics.smartphone</td>\n",
       "      <td>apple</td>\n",
       "      <td>418.96</td>\n",
       "      <td>1515915625514891148</td>\n",
       "    </tr>\n",
       "    <tr>\n",
       "      <th>420716</th>\n",
       "      <td>2020-11-21T10:10:30.000Z</td>\n",
       "      <td>2388440981134693944</td>\n",
       "      <td>1515966223509089917</td>\n",
       "      <td>2268105402447037312</td>\n",
       "      <td>appliances.personal.scales</td>\n",
       "      <td>vitek</td>\n",
       "      <td>12.48</td>\n",
       "      <td>1515915625514834281</td>\n",
       "    </tr>\n",
       "    <tr>\n",
       "      <th>420717</th>\n",
       "      <td>2020-11-21T10:10:30.000Z</td>\n",
       "      <td>2388440981134693944</td>\n",
       "      <td>1515966223509127566</td>\n",
       "      <td>2268105441101742794</td>\n",
       "      <td>appliances.kitchen.blender</td>\n",
       "      <td>redmond</td>\n",
       "      <td>53.22</td>\n",
       "      <td>1515915625514834281</td>\n",
       "    </tr>\n",
       "  </tbody>\n",
       "</table>\n",
       "<p>420718 rows × 8 columns</p>\n",
       "</div>"
      ],
      "text/plain": [
       "                      event_time             order_id           product_id  \\\n",
       "0       2020-04-24T11:50:39.000Z  2294359932054536986  1515966223509089906   \n",
       "1       2020-04-24T11:50:39.000Z  2294359932054536986  1515966223509089906   \n",
       "2       2020-04-24T14:37:43.000Z  2294444024058086220  2273948319057183658   \n",
       "3       2020-04-24T14:37:43.000Z  2294444024058086220  2273948319057183658   \n",
       "4       2020-04-26T08:45:57.000Z  2295716521449619559  1515966223509261697   \n",
       "...                          ...                  ...                  ...   \n",
       "420713  2020-11-21T10:08:54.000Z  2388440981134693941  1515966223509088622   \n",
       "420714  2020-11-21T10:10:01.000Z  2388440981134693942  1515966223526602848   \n",
       "420715  2020-11-21T10:10:13.000Z  2388440981134693943  1515966223509089282   \n",
       "420716  2020-11-21T10:10:30.000Z  2388440981134693944  1515966223509089917   \n",
       "420717  2020-11-21T10:10:30.000Z  2388440981134693944  1515966223509127566   \n",
       "\n",
       "                category_id                category_code    brand   price  \\\n",
       "0       2268105426648170900           electronics.tablet  samsung  162.01   \n",
       "1       2268105426648170900           electronics.tablet  samsung  162.01   \n",
       "2       2268105430162997728  electronics.audio.headphone   huawei   77.52   \n",
       "3       2268105430162997728  electronics.audio.headphone   huawei   77.52   \n",
       "4       2268105442636858090      furniture.kitchen.table  maestro   39.33   \n",
       "...                     ...                          ...      ...     ...   \n",
       "420713  2374498914000592280         electronics.video.tv       lg  370.35   \n",
       "420714  2268105428166508982       electronics.smartphone     oppo  138.87   \n",
       "420715  2268105428166508982       electronics.smartphone    apple  418.96   \n",
       "420716  2268105402447037312   appliances.personal.scales    vitek   12.48   \n",
       "420717  2268105441101742794   appliances.kitchen.blender  redmond   53.22   \n",
       "\n",
       "                    user_id  \n",
       "0       1515915625441993984  \n",
       "1       1515915625441993984  \n",
       "2       1515915625447879434  \n",
       "3       1515915625447879434  \n",
       "4       1515915625450382722  \n",
       "...                     ...  \n",
       "420713  1515915625513809944  \n",
       "420714  1515915625514888605  \n",
       "420715  1515915625514891148  \n",
       "420716  1515915625514834281  \n",
       "420717  1515915625514834281  \n",
       "\n",
       "[420718 rows x 8 columns]"
      ]
     },
     "execution_count": 19,
     "metadata": {},
     "output_type": "execute_result"
    }
   ],
   "source": [
    "data = pd.read_csv('preprocessed.csv')\n",
    "data"
   ]
  },
  {
   "cell_type": "code",
   "execution_count": 24,
   "id": "55181b4a",
   "metadata": {},
   "outputs": [
    {
     "data": {
      "text/html": [
       "<div>\n",
       "<style scoped>\n",
       "    .dataframe tbody tr th:only-of-type {\n",
       "        vertical-align: middle;\n",
       "    }\n",
       "\n",
       "    .dataframe tbody tr th {\n",
       "        vertical-align: top;\n",
       "    }\n",
       "\n",
       "    .dataframe thead th {\n",
       "        text-align: right;\n",
       "    }\n",
       "</style>\n",
       "<table border=\"1\" class=\"dataframe\">\n",
       "  <thead>\n",
       "    <tr style=\"text-align: right;\">\n",
       "      <th></th>\n",
       "      <th>event_time</th>\n",
       "      <th>order_id</th>\n",
       "      <th>product_id</th>\n",
       "      <th>category_id</th>\n",
       "      <th>category_code</th>\n",
       "      <th>brand</th>\n",
       "      <th>price</th>\n",
       "      <th>user_id</th>\n",
       "    </tr>\n",
       "  </thead>\n",
       "  <tbody>\n",
       "    <tr>\n",
       "      <th>0</th>\n",
       "      <td>2020-04-24T11:50:39.000Z</td>\n",
       "      <td>2294359932054536986</td>\n",
       "      <td>1515966223509089906</td>\n",
       "      <td>2268105426648170900</td>\n",
       "      <td>electronics.tablet</td>\n",
       "      <td>samsung</td>\n",
       "      <td>162.01</td>\n",
       "      <td>1515915625441993984</td>\n",
       "    </tr>\n",
       "    <tr>\n",
       "      <th>1</th>\n",
       "      <td>2020-04-24T11:50:39.000Z</td>\n",
       "      <td>2294359932054536986</td>\n",
       "      <td>1515966223509089906</td>\n",
       "      <td>2268105426648170900</td>\n",
       "      <td>electronics.tablet</td>\n",
       "      <td>samsung</td>\n",
       "      <td>162.01</td>\n",
       "      <td>1515915625441993984</td>\n",
       "    </tr>\n",
       "    <tr>\n",
       "      <th>2</th>\n",
       "      <td>2020-04-24T14:37:43.000Z</td>\n",
       "      <td>2294444024058086220</td>\n",
       "      <td>2273948319057183658</td>\n",
       "      <td>2268105430162997728</td>\n",
       "      <td>electronics.audio.headphone</td>\n",
       "      <td>huawei</td>\n",
       "      <td>77.52</td>\n",
       "      <td>1515915625447879434</td>\n",
       "    </tr>\n",
       "    <tr>\n",
       "      <th>3</th>\n",
       "      <td>2020-04-24T14:37:43.000Z</td>\n",
       "      <td>2294444024058086220</td>\n",
       "      <td>2273948319057183658</td>\n",
       "      <td>2268105430162997728</td>\n",
       "      <td>electronics.audio.headphone</td>\n",
       "      <td>huawei</td>\n",
       "      <td>77.52</td>\n",
       "      <td>1515915625447879434</td>\n",
       "    </tr>\n",
       "    <tr>\n",
       "      <th>4</th>\n",
       "      <td>2020-04-26T08:45:57.000Z</td>\n",
       "      <td>2295716521449619559</td>\n",
       "      <td>1515966223509261697</td>\n",
       "      <td>2268105442636858090</td>\n",
       "      <td>furniture.kitchen.table</td>\n",
       "      <td>maestro</td>\n",
       "      <td>39.33</td>\n",
       "      <td>1515915625450382722</td>\n",
       "    </tr>\n",
       "  </tbody>\n",
       "</table>\n",
       "</div>"
      ],
      "text/plain": [
       "                 event_time             order_id           product_id  \\\n",
       "0  2020-04-24T11:50:39.000Z  2294359932054536986  1515966223509089906   \n",
       "1  2020-04-24T11:50:39.000Z  2294359932054536986  1515966223509089906   \n",
       "2  2020-04-24T14:37:43.000Z  2294444024058086220  2273948319057183658   \n",
       "3  2020-04-24T14:37:43.000Z  2294444024058086220  2273948319057183658   \n",
       "4  2020-04-26T08:45:57.000Z  2295716521449619559  1515966223509261697   \n",
       "\n",
       "           category_id                category_code    brand   price  \\\n",
       "0  2268105426648170900           electronics.tablet  samsung  162.01   \n",
       "1  2268105426648170900           electronics.tablet  samsung  162.01   \n",
       "2  2268105430162997728  electronics.audio.headphone   huawei   77.52   \n",
       "3  2268105430162997728  electronics.audio.headphone   huawei   77.52   \n",
       "4  2268105442636858090      furniture.kitchen.table  maestro   39.33   \n",
       "\n",
       "               user_id  \n",
       "0  1515915625441993984  \n",
       "1  1515915625441993984  \n",
       "2  1515915625447879434  \n",
       "3  1515915625447879434  \n",
       "4  1515915625450382722  "
      ]
     },
     "execution_count": 24,
     "metadata": {},
     "output_type": "execute_result"
    }
   ],
   "source": [
    "data.head()"
   ]
  },
  {
   "cell_type": "markdown",
   "id": "a8db1110",
   "metadata": {},
   "source": [
    "## Predicting Top 2 Categories That Will Do Well in the Future"
   ]
  },
  {
   "cell_type": "code",
   "execution_count": 32,
   "id": "b83a4352",
   "metadata": {},
   "outputs": [
    {
     "name": "stdout",
     "output_type": "stream",
     "text": [
      "Top 2 categories predicted to do well in the future:\n",
      "    category_code  predicted_sales\n",
      "88             88     2.474216e+07\n",
      "58             58     1.245991e+07\n"
     ]
    }
   ],
   "source": [
    "# Step 1: Aggregate Sales Data by Category\n",
    "category_performance = df.groupby('category_code').agg({\n",
    "    'price': 'mean',  # Mean price\n",
    "    'order_id': 'nunique',  # Number of orders\n",
    "    'product_id': 'nunique'  # Number of unique products\n",
    "}).reset_index()\n",
    "\n",
    "# Step 2: Feature Engineering (you can add more features like average rating, etc.)\n",
    "category_performance['total_sales'] = category_performance['order_id'] * category_performance['price']\n",
    "\n",
    "# Step 3: Split Data for Model Training\n",
    "X = category_performance[['price', 'order_id', 'product_id']]\n",
    "y = category_performance['total_sales']  # This will be your target variable (sales)\n",
    "\n",
    "# Step 4: Train a Random Forest Regressor\n",
    "from sklearn.ensemble import RandomForestRegressor\n",
    "from sklearn.model_selection import train_test_split\n",
    "\n",
    "X_train, X_test, y_train, y_test = train_test_split(X, y, test_size=0.3, random_state=42)\n",
    "\n",
    "# Train the model\n",
    "model = RandomForestRegressor(n_estimators=100, random_state=42)\n",
    "model.fit(X_train, y_train)\n",
    "\n",
    "# Step 5: Predict Future Sales\n",
    "category_performance['predicted_sales'] = model.predict(X)\n",
    "\n",
    "# Step 6: Rank Categories by Predicted Sales\n",
    "top_2_categories = category_performance.nlargest(2, 'predicted_sales')\n",
    "print(\"Top 2 categories predicted to do well in the future:\")\n",
    "print(top_2_categories[['category_code', 'predicted_sales']])\n"
   ]
  },
  {
   "cell_type": "markdown",
   "id": "e2627b7b",
   "metadata": {},
   "source": [
    "## Predict how many people are likely to purchase products from two or more specific categories"
   ]
  },
  {
   "cell_type": "code",
   "execution_count": 47,
   "id": "6613c1b1",
   "metadata": {},
   "outputs": [
    {
     "name": "stdout",
     "output_type": "stream",
     "text": [
      "               user_id  distinct_categories  total_purchases  total_spent  \\\n",
      "0  1515915625439952115                    1                1       416.64   \n",
      "1  1515915625440038436                    2                2        56.43   \n",
      "2  1515915625440051468                    6                8      5984.92   \n",
      "3  1515915625440099873                    5                5      3785.72   \n",
      "4  1515915625440121544                    2                2       182.83   \n",
      "\n",
      "   multi_category_purchase  \n",
      "0                        0  \n",
      "1                        1  \n",
      "2                        1  \n",
      "3                        1  \n",
      "4                        1  \n"
     ]
    }
   ],
   "source": [
    "import pandas as pd\n",
    "import numpy as np\n",
    "\n",
    "# Assuming 'data' is your main DataFrame\n",
    "# Convert 'event_time' to datetime format\n",
    "data['event_time'] = pd.to_datetime(data['event_time'])\n",
    "\n",
    "# Extract features from 'event_time'\n",
    "data['month'] = data['event_time'].dt.month\n",
    "data['day_of_week'] = data['event_time'].dt.dayofweek\n",
    "\n",
    "# Filter out rows where 'category_code' or 'user_id' is missing\n",
    "data = data.dropna(subset=['category_code', 'user_id'])\n",
    "\n",
    "# Create a pivot table for category purchases per user\n",
    "user_category_df = data.groupby(['user_id', 'category_code']).agg(\n",
    "    total_spent=('price', 'sum'),\n",
    "    purchase_count=('order_id', 'nunique')\n",
    ").reset_index()\n",
    "\n",
    "# Aggregate features for each user\n",
    "user_agg_df = user_category_df.groupby('user_id').agg(\n",
    "    distinct_categories=('category_code', 'nunique'),\n",
    "    total_purchases=('purchase_count', 'sum'),\n",
    "    total_spent=('total_spent', 'sum')\n",
    ").reset_index()\n",
    "\n",
    "# Create a target variable: 1 if user bought from 2 or more categories, else 0\n",
    "user_agg_df['multi_category_purchase'] = np.where(user_agg_df['distinct_categories'] >= 2, 1, 0)\n",
    "\n",
    "# Display the first few rows of user_agg_df to verify\n",
    "print(user_agg_df.head())"
   ]
  },
  {
   "cell_type": "markdown",
   "id": "30febc24",
   "metadata": {},
   "source": [
    "## Model Training"
   ]
  },
  {
   "cell_type": "code",
   "execution_count": 49,
   "id": "d92c35ce",
   "metadata": {},
   "outputs": [
    {
     "name": "stderr",
     "output_type": "stream",
     "text": [
      "Training Random Forest: 100%|██████████| 100/100 [08:26<00:00,  5.07s/it]\n"
     ]
    },
    {
     "name": "stdout",
     "output_type": "stream",
     "text": [
      "Accuracy: 1.0\n",
      "Classification Report:\n",
      "               precision    recall  f1-score   support\n",
      "\n",
      "           0       1.00      1.00      1.00     43288\n",
      "           1       1.00      1.00      1.00     17756\n",
      "\n",
      "    accuracy                           1.00     61044\n",
      "   macro avg       1.00      1.00      1.00     61044\n",
      "weighted avg       1.00      1.00      1.00     61044\n",
      "\n"
     ]
    },
    {
     "data": {
      "image/png": "[encoded data removed]",
      "text/plain": [
       "<Figure size 800x600 with 2 Axes>"
      ]
     },
     "metadata": {},
     "output_type": "display_data"
    }
   ],
   "source": [
    "from sklearn.model_selection import train_test_split\n",
    "from sklearn.ensemble import RandomForestClassifier\n",
    "from sklearn.metrics import accuracy_score, confusion_matrix, classification_report\n",
    "import matplotlib.pyplot as plt\n",
    "import seaborn as sns\n",
    "from tqdm import tqdm  # For adding a progress bar\n",
    "\n",
    "# Custom wrapper to enable progress bar for Random Forest\n",
    "class RandomForestWithProgressBar(RandomForestClassifier):\n",
    "    def fit(self, X, y):\n",
    "        # Create a tqdm progress bar\n",
    "        for i in tqdm(range(self.n_estimators), desc=\"Training Random Forest\", leave=True):\n",
    "            super().fit(X, y)\n",
    "        return self\n",
    "\n",
    "# Define features and target\n",
    "features = user_agg_df[['total_purchases', 'total_spent', 'distinct_categories']]\n",
    "target = user_agg_df['multi_category_purchase']\n",
    "\n",
    "# Split the dataset into training and testing sets\n",
    "X_train, X_test, y_train, y_test = train_test_split(features, target, test_size=0.3, random_state=42)\n",
    "\n",
    "# Train a Random Forest Classifier with Progress Bar\n",
    "model = RandomForestWithProgressBar(n_estimators=100, random_state=42)\n",
    "model.fit(X_train, y_train)\n",
    "\n",
    "# Make predictions\n",
    "y_pred = model.predict(X_test)\n",
    "\n",
    "# Evaluate the model\n",
    "accuracy = accuracy_score(y_test, y_pred)\n",
    "conf_matrix = confusion_matrix(y_test, y_pred)\n",
    "class_report = classification_report(y_test, y_pred)\n",
    "\n",
    "print(\"Accuracy:\", accuracy)\n",
    "print(\"Classification Report:\\n\", class_report)\n",
    "\n",
    "# Visualize the Confusion Matrix\n",
    "plt.figure(figsize=(8, 6))\n",
    "sns.heatmap(conf_matrix, annot=True, fmt='d', cmap='Blues', xticklabels=['Single Category', 'Multi-Category'], yticklabels=['Single Category', 'Multi-Category'])\n",
    "plt.title(\"Confusion Matrix - Multi-Category Purchase Prediction\")\n",
    "plt.xlabel(\"Predicted\")\n",
    "plt.ylabel(\"Actual\")\n",
    "plt.show()\n"
   ]
  },
  {
   "cell_type": "markdown",
   "id": "a9648abf",
   "metadata": {},
   "source": [
    "## Model Deploy"
   ]
  },
  {
   "cell_type": "code",
   "execution_count": 53,
   "id": "aa607f27",
   "metadata": {},
   "outputs": [],
   "source": [
    "import pickle\n",
    "\n",
    "# Save the trained model\n",
    "with open('random_forest_model.pkl', 'wb') as f:\n",
    "    pickle.dump(model, f)\n"
   ]
  },
  {
   "cell_type": "code",
   "execution_count": 54,
   "id": "15256191",
   "metadata": {},
   "outputs": [],
   "source": [
    "import boto3\n",
    "\n",
    "# Initialize the S3 client\n",
    "s3 = boto3.client('s3')\n",
    "\n",
    "# Upload the file\n",
    "s3.upload_file('random_forest_model.pkl', 'bigdata940', 'models/random_forest_model.pkl')\n"
   ]
  },
  {
   "cell_type": "code",
   "execution_count": 55,
   "id": "a2d9b6eb",
   "metadata": {},
   "outputs": [],
   "source": [
    "import sagemaker\n",
    "from sagemaker import get_execution_role\n",
    "role = get_execution_role()  # Get the execution role for SageMaker"
   ]
  },
  {
   "cell_type": "code",
   "execution_count": null,
   "id": "18d948c2",
   "metadata": {},
   "outputs": [],
   "source": [
    "from sagemaker.sklearn import SKLearnModel\n",
    "\n",
    "# Define the path to the model in S3\n",
    "model_data = 's3://bigdata940/models/random_forest_model.pkl'\n",
    "\n",
    "# Create the SageMaker model\n",
    "sklearn_model = SKLearnModel(\n",
    "    model_data=model_data,\n",
    "    role=role,\n",
    "    entry_point='https://bigdata940.s3.us-east-1.amazonaws.com/models/interface.py'  # This file contains the logic to handle predictions\n",
    ")\n"
   ]
  },
  {
   "cell_type": "code",
   "execution_count": null,
   "id": "842f6214",
   "metadata": {},
   "outputs": [],
   "source": [
    "# Deploy the model to an endpoint\n",
    "predictor = sklearn_model.deploy(\n",
    "    initial_instance_count=1,  # Number of instances to run\n",
    "    instance_type='ml.m5.large'  # Type of instance (can choose based on workload)\n",
    ")"
   ]
  },
  {
   "cell_type": "code",
   "execution_count": 65,
   "id": "ba21d47a",
   "metadata": {},
   "outputs": [
    {
     "name": "stdout",
     "output_type": "stream",
     "text": [
      "0  1515915625439952115                    1                1       416.64\n"
     ]
    }
   ],
   "source": [
    "# Make predictions by invoking the endpoint\n",
    "response = predictor.predict([[5, 3, 2]])  # Example feature data for prediction\n",
    "print(response)"
   ]
  },
  {
   "cell_type": "code",
   "execution_count": 67,
   "id": "9557142a",
   "metadata": {},
   "outputs": [
    {
     "name": "stdout",
     "output_type": "stream",
     "text": [
      "Endpoint Deleted\n"
     ]
    }
   ],
   "source": [
    "predictor.delete_endpoint()"
   ]
  },
  {
   "cell_type": "code",
   "execution_count": null,
   "id": "1945c899",
   "metadata": {},
   "outputs": [],
   "source": []
  }
 ],
 "metadata": {
  "kernelspec": {
   "display_name": "conda_python3",
   "language": "python",
   "name": "conda_python3"
  },
  "language_info": {
   "codemirror_mode": {
    "name": "ipython",
    "version": 3
   },
   "file_extension": ".py",
   "mimetype": "text/x-python",
   "name": "python",
   "nbconvert_exporter": "python",
   "pygments_lexer": "ipython3",
   "version": "3.10.15"
  }
 },
 "nbformat": 4,
 "nbformat_minor": 5
}
